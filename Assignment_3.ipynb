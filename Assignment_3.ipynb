{
 "cells": [
  {
   "cell_type": "markdown",
   "metadata": {},
   "source": [
    "# Assignment 3"
   ]
  },
  {
   "cell_type": "markdown",
   "metadata": {},
   "source": [
    "#### 1.1 Write a Python Program to implement your own myreduce() function which works exactly like Python's built-in function reduce()"
   ]
  },
  {
   "cell_type": "code",
   "execution_count": 1,
   "metadata": {},
   "outputs": [
    {
     "name": "stdout",
     "output_type": "stream",
     "text": [
      "16777216\n",
      "\n",
      "khy\n",
      "\n"
     ]
    }
   ],
   "source": [
    "# program using bulit-in function reduce()\n",
    "\n",
    "from functools import reduce\n",
    "\n",
    "# prog 1\n",
    "list1 = [2,2,3,4,1]\n",
    "\n",
    "total = reduce(lambda x,y: x**y, list1)\n",
    "\n",
    "print((total)) # o/p = 16777216\n",
    "print()\n",
    "\n",
    "\n",
    "# prog 2\n",
    "list2 = [\"abc\", \"khy\", \"del\"] \n",
    "\n",
    "max = reduce(lambda a, b:a if a>b else b, list2) \n",
    "\n",
    "print(max)  # o/p = khy\n",
    "print()"
   ]
  },
  {
   "cell_type": "code",
   "execution_count": 2,
   "metadata": {},
   "outputs": [
    {
     "name": "stdout",
     "output_type": "stream",
     "text": [
      "16777216\n",
      "\n",
      "khy\n",
      "\n"
     ]
    }
   ],
   "source": [
    "# same function as above without using bulit-in function reduce()\n",
    "\n",
    "list1 = [2,2,3,4,1]\n",
    "\n",
    "list2 = [\"abc\", \"khy\", \"del\"]\n",
    "\n",
    "# prog 1\n",
    "def my_reduce1(list):\n",
    "    \n",
    "    str_len = len(list)\n",
    "    \n",
    "    power = list[0] ** list[1]\n",
    "    \n",
    "    for i in range(2, str_len):\n",
    "        \n",
    "        power = power ** list[i]\n",
    "        \n",
    "    return power\n",
    "\n",
    "\n",
    "power_of_list = my_reduce1(list1)\n",
    "print(power_of_list)  # o/p = 16777216\n",
    "print()\n",
    "\n",
    "\n",
    "\n",
    "# prog 2 \n",
    "def my_reduce2(list):\n",
    "    \n",
    "    str_len = len(list)\n",
    "    \n",
    "    if list[0] > list[1]:\n",
    "        max = list[0]\n",
    "    else:\n",
    "        max = list[1]\n",
    "    \n",
    "    for i in range(2, str_len):\n",
    "        \n",
    "        if max < list[i]:\n",
    "            max = list[i]\n",
    "        else:\n",
    "            max = max\n",
    "        \n",
    "    return max\n",
    "\n",
    "max_of_list = my_reduce2(list2)\n",
    "print(max_of_list)    # o/p = khy\n",
    "print()"
   ]
  },
  {
   "cell_type": "raw",
   "metadata": {},
   "source": []
  },
  {
   "cell_type": "raw",
   "metadata": {},
   "source": []
  },
  {
   "cell_type": "markdown",
   "metadata": {},
   "source": [
    "#### 1.2 Write a Python program to implement your own myfilter() function which works exactly like Python's built-in function filter()"
   ]
  },
  {
   "cell_type": "code",
   "execution_count": 3,
   "metadata": {},
   "outputs": [
    {
     "name": "stdout",
     "output_type": "stream",
     "text": [
      "The filtered vowels are:\n",
      "a\n",
      "e\n",
      "i\n",
      "o\n"
     ]
    }
   ],
   "source": [
    "# program using bulit-in function filter()\n",
    "\n",
    "letters = ['a', 'b', 'd', 'e', 'i', 'j', 'o']\n",
    "\n",
    "def filterVowels(letter):\n",
    "    vowels = ['a', 'e', 'i', 'o', 'u']\n",
    "\n",
    "    if(letter in vowels):\n",
    "        return True\n",
    "    else:\n",
    "        return False\n",
    "\n",
    "filtered = filter(filterVowels, letters)\n",
    "\n",
    "print('The filtered vowels are:')\n",
    "for vowel in filtered:\n",
    "    print(vowel)"
   ]
  },
  {
   "cell_type": "code",
   "execution_count": 4,
   "metadata": {},
   "outputs": [],
   "source": [
    "# same function as above without using bulit-in function reduce()\n",
    "\n",
    "def my_filter(letters):\n",
    "    \n",
    "    print('The filtered vowels are:')\n",
    "    \n",
    "    vowels = ['a', 'e', 'i', 'o', 'u']\n",
    "\n",
    "    for letters in vowels:\n",
    "        print(letters)"
   ]
  },
  {
   "cell_type": "code",
   "execution_count": 5,
   "metadata": {},
   "outputs": [
    {
     "name": "stdout",
     "output_type": "stream",
     "text": [
      "The filtered vowels are:\n",
      "a\n",
      "e\n",
      "i\n",
      "o\n",
      "u\n"
     ]
    }
   ],
   "source": [
    "list_of_letters = ['a', 'b', 'd', 'e', 'i', 'j', 'o']\n",
    "\n",
    "my_filter(list_of_letters)"
   ]
  },
  {
   "cell_type": "raw",
   "metadata": {},
   "source": []
  },
  {
   "cell_type": "raw",
   "metadata": {},
   "source": []
  },
  {
   "cell_type": "markdown",
   "metadata": {},
   "source": [
    "#### Implement List comprehensions to produce the following lists."
   ]
  },
  {
   "cell_type": "markdown",
   "metadata": {},
   "source": [
    "##### ['x', 'xx', 'xxx', 'xxxx', 'y', 'yy', 'yyy', 'yyyy', 'z', 'zz', 'zzz', 'zzzz']"
   ]
  },
  {
   "cell_type": "code",
   "execution_count": 6,
   "metadata": {},
   "outputs": [
    {
     "data": {
      "text/plain": [
       "['x', 'xx', 'xxx', 'xxxx', 'y', 'yy', 'yyy', 'yyyy', 'z', 'zz', 'zzz', 'zzzz']"
      ]
     },
     "execution_count": 6,
     "metadata": {},
     "output_type": "execute_result"
    }
   ],
   "source": [
    "alpha = ['x','y','z']\n",
    "pattern_list = []\n",
    "\n",
    "for i in alpha:\n",
    "    for j in range(1,5):\n",
    "        pattern_list.append(i*j)\n",
    "        \n",
    "pattern_list"
   ]
  },
  {
   "cell_type": "markdown",
   "metadata": {},
   "source": [
    "##### ['x', 'y', 'z', 'xx', 'yy', 'zz', 'xxx', 'yyy', 'zzz', 'xxxx', 'yyyy', 'zzzz']"
   ]
  },
  {
   "cell_type": "code",
   "execution_count": 7,
   "metadata": {},
   "outputs": [
    {
     "data": {
      "text/plain": [
       "['x', 'y', 'z', 'xx', 'yy', 'zz', 'xxx', 'yyy', 'zzz', 'xxxx', 'yyyy', 'zzzz']"
      ]
     },
     "execution_count": 7,
     "metadata": {},
     "output_type": "execute_result"
    }
   ],
   "source": [
    "alpha = ['x','y','z']\n",
    "pattern_list = []\n",
    "\n",
    "for i in range(1,5):\n",
    "    for j in alpha:\n",
    "        pattern_list.append(i*j)\n",
    "        \n",
    "pattern_list"
   ]
  },
  {
   "cell_type": "markdown",
   "metadata": {},
   "source": [
    "##### [[2], [3], [4], [3], [4], [5], [4], [5], [6]]"
   ]
  },
  {
   "cell_type": "code",
   "execution_count": 8,
   "metadata": {},
   "outputs": [
    {
     "data": {
      "text/plain": [
       "[[2], [3], [4], [3], [4], [5], [4], [5], [6]]"
      ]
     },
     "execution_count": 8,
     "metadata": {},
     "output_type": "execute_result"
    }
   ],
   "source": [
    "initial_list = [2, 3, 4]\n",
    "pattern_list = []\n",
    "\n",
    "for i in range(3):\n",
    "    for j in initial_list:\n",
    "        pattern_list.append([i+j])\n",
    "        \n",
    "pattern_list"
   ]
  },
  {
   "cell_type": "markdown",
   "metadata": {},
   "source": [
    "##### [[2, 3, 4, 5], [3, 4, 5, 6], [4, 5, 6, 7], [5, 6, 7, 8]]"
   ]
  },
  {
   "cell_type": "code",
   "execution_count": 9,
   "metadata": {},
   "outputs": [
    {
     "data": {
      "text/plain": [
       "[[2, 3, 4, 5], [3, 4, 5, 6], [4, 5, 6, 7], [5, 6, 7, 8]]"
      ]
     },
     "execution_count": 9,
     "metadata": {},
     "output_type": "execute_result"
    }
   ],
   "source": [
    "initial_list = [2, 3, 4, 5]\n",
    "pattern_list = []\n",
    "\n",
    "for i in range(4):\n",
    "    pattern_list.append([])\n",
    "    for j in initial_list:\n",
    "        pattern_list[i].append(i+j)\n",
    "\n",
    "pattern_list"
   ]
  },
  {
   "cell_type": "markdown",
   "metadata": {},
   "source": [
    "##### [(1, 1), (2, 1), (3, 1), (1, 2), (2, 2), (3, 2), (1, 3), (2, 3), (3, 3)]"
   ]
  },
  {
   "cell_type": "code",
   "execution_count": 10,
   "metadata": {},
   "outputs": [
    {
     "data": {
      "text/plain": [
       "[(1, 1), (2, 1), (3, 1), (1, 2), (2, 2), (3, 2), (1, 3), (2, 3), (3, 3)]"
      ]
     },
     "execution_count": 10,
     "metadata": {},
     "output_type": "execute_result"
    }
   ],
   "source": [
    "initial_list = [1, 2, 3]\n",
    "pattern_list = []\n",
    "\n",
    "for i in range(1,4):\n",
    "    for j in initial_list:\n",
    "        pattern_list.append((j,i))\n",
    "        \n",
    "pattern_list"
   ]
  },
  {
   "cell_type": "code",
   "execution_count": 12,
   "metadata": {},
   "outputs": [
    {
     "name": "stdout",
     "output_type": "stream",
     "text": [
      "[(1, 1), (2, 1), (3, 1), (1, 2), (2, 2), (3, 2), (1, 3), (2, 3), (3, 3)]\n"
     ]
    }
   ],
   "source": [
    "initial_list = [1, 2, 3]\n",
    "\n",
    "print([(j,i) for i in range(1,4) for j in initial_list])"
   ]
  },
  {
   "cell_type": "code",
   "execution_count": null,
   "metadata": {},
   "outputs": [],
   "source": []
  }
 ],
 "metadata": {
  "kernelspec": {
   "display_name": "Python 3",
   "language": "python",
   "name": "python3"
  },
  "language_info": {
   "codemirror_mode": {
    "name": "ipython",
    "version": 3
   },
   "file_extension": ".py",
   "mimetype": "text/x-python",
   "name": "python",
   "nbconvert_exporter": "python",
   "pygments_lexer": "ipython3",
   "version": "3.7.6"
  }
 },
 "nbformat": 4,
 "nbformat_minor": 4
}
